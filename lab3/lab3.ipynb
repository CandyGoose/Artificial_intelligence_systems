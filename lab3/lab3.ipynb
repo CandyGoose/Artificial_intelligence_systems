{
  "cells": [
    {
      "cell_type": "markdown",
      "metadata": {
        "id": "CjLM_NTq6JaP"
      },
      "source": [
        "# Лабораторная 4. Линейная регрессия"
      ]
    },
    {
      "cell_type": "code",
      "execution_count": null,
      "metadata": {
        "id": "UJ3PZwkO8DlP"
      },
      "outputs": [],
      "source": [
        "import pandas as pd\n",
        "import numpy as np\n",
        "import math\n",
        "import matplotlib.pyplot as plt\n",
        "from sklearn.preprocessing import StandardScaler, OneHotEncoder\n",
        "from sklearn.compose import ColumnTransformer\n",
        "from sklearn.model_selection import train_test_split\n",
        "from sklearn.metrics import r2_score"
      ]
    },
    {
      "cell_type": "code",
      "execution_count": null,
      "metadata": {
        "colab": {
          "base_uri": "https://localhost:8080/",
          "height": 443
        },
        "id": "PL-WH3Fl1IHe",
        "outputId": "3f9a53df-c3c0-48c7-8dc2-e6784d898754"
      },
      "outputs": [
        {
          "data": {
            "text/html": [
              "\n",
              "  <div id=\"df-39d20528-9769-4d61-9e0d-d8c11b8ac594\" class=\"colab-df-container\">\n",
              "    <div>\n",
              "<style scoped>\n",
              "    .dataframe tbody tr th:only-of-type {\n",
              "        vertical-align: middle;\n",
              "    }\n",
              "\n",
              "    .dataframe tbody tr th {\n",
              "        vertical-align: top;\n",
              "    }\n",
              "\n",
              "    .dataframe thead th {\n",
              "        text-align: right;\n",
              "    }\n",
              "</style>\n",
              "<table border=\"1\" class=\"dataframe\">\n",
              "  <thead>\n",
              "    <tr style=\"text-align: right;\">\n",
              "      <th></th>\n",
              "      <th>longitude</th>\n",
              "      <th>latitude</th>\n",
              "      <th>housing_median_age</th>\n",
              "      <th>total_rooms</th>\n",
              "      <th>total_bedrooms</th>\n",
              "      <th>population</th>\n",
              "      <th>households</th>\n",
              "      <th>median_income</th>\n",
              "      <th>median_house_value</th>\n",
              "    </tr>\n",
              "  </thead>\n",
              "  <tbody>\n",
              "    <tr>\n",
              "      <th>0</th>\n",
              "      <td>-114.31</td>\n",
              "      <td>34.19</td>\n",
              "      <td>15.0</td>\n",
              "      <td>5612.0</td>\n",
              "      <td>1283.0</td>\n",
              "      <td>1015.0</td>\n",
              "      <td>472.0</td>\n",
              "      <td>1.4936</td>\n",
              "      <td>66900.0</td>\n",
              "    </tr>\n",
              "    <tr>\n",
              "      <th>1</th>\n",
              "      <td>-114.47</td>\n",
              "      <td>34.40</td>\n",
              "      <td>19.0</td>\n",
              "      <td>7650.0</td>\n",
              "      <td>1901.0</td>\n",
              "      <td>1129.0</td>\n",
              "      <td>463.0</td>\n",
              "      <td>1.8200</td>\n",
              "      <td>80100.0</td>\n",
              "    </tr>\n",
              "    <tr>\n",
              "      <th>2</th>\n",
              "      <td>-114.56</td>\n",
              "      <td>33.69</td>\n",
              "      <td>17.0</td>\n",
              "      <td>720.0</td>\n",
              "      <td>174.0</td>\n",
              "      <td>333.0</td>\n",
              "      <td>117.0</td>\n",
              "      <td>1.6509</td>\n",
              "      <td>85700.0</td>\n",
              "    </tr>\n",
              "    <tr>\n",
              "      <th>3</th>\n",
              "      <td>-114.57</td>\n",
              "      <td>33.64</td>\n",
              "      <td>14.0</td>\n",
              "      <td>1501.0</td>\n",
              "      <td>337.0</td>\n",
              "      <td>515.0</td>\n",
              "      <td>226.0</td>\n",
              "      <td>3.1917</td>\n",
              "      <td>73400.0</td>\n",
              "    </tr>\n",
              "    <tr>\n",
              "      <th>4</th>\n",
              "      <td>-114.57</td>\n",
              "      <td>33.57</td>\n",
              "      <td>20.0</td>\n",
              "      <td>1454.0</td>\n",
              "      <td>326.0</td>\n",
              "      <td>624.0</td>\n",
              "      <td>262.0</td>\n",
              "      <td>1.9250</td>\n",
              "      <td>65500.0</td>\n",
              "    </tr>\n",
              "    <tr>\n",
              "      <th>...</th>\n",
              "      <td>...</td>\n",
              "      <td>...</td>\n",
              "      <td>...</td>\n",
              "      <td>...</td>\n",
              "      <td>...</td>\n",
              "      <td>...</td>\n",
              "      <td>...</td>\n",
              "      <td>...</td>\n",
              "      <td>...</td>\n",
              "    </tr>\n",
              "    <tr>\n",
              "      <th>16995</th>\n",
              "      <td>-124.26</td>\n",
              "      <td>40.58</td>\n",
              "      <td>52.0</td>\n",
              "      <td>2217.0</td>\n",
              "      <td>394.0</td>\n",
              "      <td>907.0</td>\n",
              "      <td>369.0</td>\n",
              "      <td>2.3571</td>\n",
              "      <td>111400.0</td>\n",
              "    </tr>\n",
              "    <tr>\n",
              "      <th>16996</th>\n",
              "      <td>-124.27</td>\n",
              "      <td>40.69</td>\n",
              "      <td>36.0</td>\n",
              "      <td>2349.0</td>\n",
              "      <td>528.0</td>\n",
              "      <td>1194.0</td>\n",
              "      <td>465.0</td>\n",
              "      <td>2.5179</td>\n",
              "      <td>79000.0</td>\n",
              "    </tr>\n",
              "    <tr>\n",
              "      <th>16997</th>\n",
              "      <td>-124.30</td>\n",
              "      <td>41.84</td>\n",
              "      <td>17.0</td>\n",
              "      <td>2677.0</td>\n",
              "      <td>531.0</td>\n",
              "      <td>1244.0</td>\n",
              "      <td>456.0</td>\n",
              "      <td>3.0313</td>\n",
              "      <td>103600.0</td>\n",
              "    </tr>\n",
              "    <tr>\n",
              "      <th>16998</th>\n",
              "      <td>-124.30</td>\n",
              "      <td>41.80</td>\n",
              "      <td>19.0</td>\n",
              "      <td>2672.0</td>\n",
              "      <td>552.0</td>\n",
              "      <td>1298.0</td>\n",
              "      <td>478.0</td>\n",
              "      <td>1.9797</td>\n",
              "      <td>85800.0</td>\n",
              "    </tr>\n",
              "    <tr>\n",
              "      <th>16999</th>\n",
              "      <td>-124.35</td>\n",
              "      <td>40.54</td>\n",
              "      <td>52.0</td>\n",
              "      <td>1820.0</td>\n",
              "      <td>300.0</td>\n",
              "      <td>806.0</td>\n",
              "      <td>270.0</td>\n",
              "      <td>3.0147</td>\n",
              "      <td>94600.0</td>\n",
              "    </tr>\n",
              "  </tbody>\n",
              "</table>\n",
              "<p>17000 rows × 9 columns</p>\n",
              "</div>\n",
              "    <div class=\"colab-df-buttons\">\n",
              "\n",
              "  <div class=\"colab-df-container\">\n",
              "    <button class=\"colab-df-convert\" onclick=\"convertToInteractive('df-39d20528-9769-4d61-9e0d-d8c11b8ac594')\"\n",
              "            title=\"Convert this dataframe to an interactive table.\"\n",
              "            style=\"display:none;\">\n",
              "\n",
              "  <svg xmlns=\"http://www.w3.org/2000/svg\" height=\"24px\" viewBox=\"0 -960 960 960\">\n",
              "    <path d=\"M120-120v-720h720v720H120Zm60-500h600v-160H180v160Zm220 220h160v-160H400v160Zm0 220h160v-160H400v160ZM180-400h160v-160H180v160Zm440 0h160v-160H620v160ZM180-180h160v-160H180v160Zm440 0h160v-160H620v160Z\"/>\n",
              "  </svg>\n",
              "    </button>\n",
              "\n",
              "  <style>\n",
              "    .colab-df-container {\n",
              "      display:flex;\n",
              "      gap: 12px;\n",
              "    }\n",
              "\n",
              "    .colab-df-convert {\n",
              "      background-color: #E8F0FE;\n",
              "      border: none;\n",
              "      border-radius: 50%;\n",
              "      cursor: pointer;\n",
              "      display: none;\n",
              "      fill: #1967D2;\n",
              "      height: 32px;\n",
              "      padding: 0 0 0 0;\n",
              "      width: 32px;\n",
              "    }\n",
              "\n",
              "    .colab-df-convert:hover {\n",
              "      background-color: #E2EBFA;\n",
              "      box-shadow: 0px 1px 2px rgba(60, 64, 67, 0.3), 0px 1px 3px 1px rgba(60, 64, 67, 0.15);\n",
              "      fill: #174EA6;\n",
              "    }\n",
              "\n",
              "    .colab-df-buttons div {\n",
              "      margin-bottom: 4px;\n",
              "    }\n",
              "\n",
              "    [theme=dark] .colab-df-convert {\n",
              "      background-color: #3B4455;\n",
              "      fill: #D2E3FC;\n",
              "    }\n",
              "\n",
              "    [theme=dark] .colab-df-convert:hover {\n",
              "      background-color: #434B5C;\n",
              "      box-shadow: 0px 1px 3px 1px rgba(0, 0, 0, 0.15);\n",
              "      filter: drop-shadow(0px 1px 2px rgba(0, 0, 0, 0.3));\n",
              "      fill: #FFFFFF;\n",
              "    }\n",
              "  </style>\n",
              "\n",
              "    <script>\n",
              "      const buttonEl =\n",
              "        document.querySelector('#df-39d20528-9769-4d61-9e0d-d8c11b8ac594 button.colab-df-convert');\n",
              "      buttonEl.style.display =\n",
              "        google.colab.kernel.accessAllowed ? 'block' : 'none';\n",
              "\n",
              "      async function convertToInteractive(key) {\n",
              "        const element = document.querySelector('#df-39d20528-9769-4d61-9e0d-d8c11b8ac594');\n",
              "        const dataTable =\n",
              "          await google.colab.kernel.invokeFunction('convertToInteractive',\n",
              "                                                    [key], {});\n",
              "        if (!dataTable) return;\n",
              "\n",
              "        const docLinkHtml = 'Like what you see? Visit the ' +\n",
              "          '<a target=\"_blank\" href=https://colab.research.google.com/notebooks/data_table.ipynb>data table notebook</a>'\n",
              "          + ' to learn more about interactive tables.';\n",
              "        element.innerHTML = '';\n",
              "        dataTable['output_type'] = 'display_data';\n",
              "        await google.colab.output.renderOutput(dataTable, element);\n",
              "        const docLink = document.createElement('div');\n",
              "        docLink.innerHTML = docLinkHtml;\n",
              "        element.appendChild(docLink);\n",
              "      }\n",
              "    </script>\n",
              "  </div>\n",
              "\n",
              "\n",
              "<div id=\"df-f36a93a0-3902-484b-a9da-b2a48d938798\">\n",
              "  <button class=\"colab-df-quickchart\" onclick=\"quickchart('df-f36a93a0-3902-484b-a9da-b2a48d938798')\"\n",
              "            title=\"Suggest charts\"\n",
              "            style=\"display:none;\">\n",
              "\n",
              "<svg xmlns=\"http://www.w3.org/2000/svg\" height=\"24px\"viewBox=\"0 0 24 24\"\n",
              "     width=\"24px\">\n",
              "    <g>\n",
              "        <path d=\"M19 3H5c-1.1 0-2 .9-2 2v14c0 1.1.9 2 2 2h14c1.1 0 2-.9 2-2V5c0-1.1-.9-2-2-2zM9 17H7v-7h2v7zm4 0h-2V7h2v10zm4 0h-2v-4h2v4z\"/>\n",
              "    </g>\n",
              "</svg>\n",
              "  </button>\n",
              "\n",
              "<style>\n",
              "  .colab-df-quickchart {\n",
              "      --bg-color: #E8F0FE;\n",
              "      --fill-color: #1967D2;\n",
              "      --hover-bg-color: #E2EBFA;\n",
              "      --hover-fill-color: #174EA6;\n",
              "      --disabled-fill-color: #AAA;\n",
              "      --disabled-bg-color: #DDD;\n",
              "  }\n",
              "\n",
              "  [theme=dark] .colab-df-quickchart {\n",
              "      --bg-color: #3B4455;\n",
              "      --fill-color: #D2E3FC;\n",
              "      --hover-bg-color: #434B5C;\n",
              "      --hover-fill-color: #FFFFFF;\n",
              "      --disabled-bg-color: #3B4455;\n",
              "      --disabled-fill-color: #666;\n",
              "  }\n",
              "\n",
              "  .colab-df-quickchart {\n",
              "    background-color: var(--bg-color);\n",
              "    border: none;\n",
              "    border-radius: 50%;\n",
              "    cursor: pointer;\n",
              "    display: none;\n",
              "    fill: var(--fill-color);\n",
              "    height: 32px;\n",
              "    padding: 0;\n",
              "    width: 32px;\n",
              "  }\n",
              "\n",
              "  .colab-df-quickchart:hover {\n",
              "    background-color: var(--hover-bg-color);\n",
              "    box-shadow: 0 1px 2px rgba(60, 64, 67, 0.3), 0 1px 3px 1px rgba(60, 64, 67, 0.15);\n",
              "    fill: var(--button-hover-fill-color);\n",
              "  }\n",
              "\n",
              "  .colab-df-quickchart-complete:disabled,\n",
              "  .colab-df-quickchart-complete:disabled:hover {\n",
              "    background-color: var(--disabled-bg-color);\n",
              "    fill: var(--disabled-fill-color);\n",
              "    box-shadow: none;\n",
              "  }\n",
              "\n",
              "  .colab-df-spinner {\n",
              "    border: 2px solid var(--fill-color);\n",
              "    border-color: transparent;\n",
              "    border-bottom-color: var(--fill-color);\n",
              "    animation:\n",
              "      spin 1s steps(1) infinite;\n",
              "  }\n",
              "\n",
              "  @keyframes spin {\n",
              "    0% {\n",
              "      border-color: transparent;\n",
              "      border-bottom-color: var(--fill-color);\n",
              "      border-left-color: var(--fill-color);\n",
              "    }\n",
              "    20% {\n",
              "      border-color: transparent;\n",
              "      border-left-color: var(--fill-color);\n",
              "      border-top-color: var(--fill-color);\n",
              "    }\n",
              "    30% {\n",
              "      border-color: transparent;\n",
              "      border-left-color: var(--fill-color);\n",
              "      border-top-color: var(--fill-color);\n",
              "      border-right-color: var(--fill-color);\n",
              "    }\n",
              "    40% {\n",
              "      border-color: transparent;\n",
              "      border-right-color: var(--fill-color);\n",
              "      border-top-color: var(--fill-color);\n",
              "    }\n",
              "    60% {\n",
              "      border-color: transparent;\n",
              "      border-right-color: var(--fill-color);\n",
              "    }\n",
              "    80% {\n",
              "      border-color: transparent;\n",
              "      border-right-color: var(--fill-color);\n",
              "      border-bottom-color: var(--fill-color);\n",
              "    }\n",
              "    90% {\n",
              "      border-color: transparent;\n",
              "      border-bottom-color: var(--fill-color);\n",
              "    }\n",
              "  }\n",
              "</style>\n",
              "\n",
              "  <script>\n",
              "    async function quickchart(key) {\n",
              "      const quickchartButtonEl =\n",
              "        document.querySelector('#' + key + ' button');\n",
              "      quickchartButtonEl.disabled = true;  // To prevent multiple clicks.\n",
              "      quickchartButtonEl.classList.add('colab-df-spinner');\n",
              "      try {\n",
              "        const charts = await google.colab.kernel.invokeFunction(\n",
              "            'suggestCharts', [key], {});\n",
              "      } catch (error) {\n",
              "        console.error('Error during call to suggestCharts:', error);\n",
              "      }\n",
              "      quickchartButtonEl.classList.remove('colab-df-spinner');\n",
              "      quickchartButtonEl.classList.add('colab-df-quickchart-complete');\n",
              "    }\n",
              "    (() => {\n",
              "      let quickchartButtonEl =\n",
              "        document.querySelector('#df-f36a93a0-3902-484b-a9da-b2a48d938798 button');\n",
              "      quickchartButtonEl.style.display =\n",
              "        google.colab.kernel.accessAllowed ? 'block' : 'none';\n",
              "    })();\n",
              "  </script>\n",
              "</div>\n",
              "    </div>\n",
              "  </div>\n"
            ],
            "text/plain": [
              "       longitude  latitude  housing_median_age  total_rooms  total_bedrooms  \\\n",
              "0        -114.31     34.19                15.0       5612.0          1283.0   \n",
              "1        -114.47     34.40                19.0       7650.0          1901.0   \n",
              "2        -114.56     33.69                17.0        720.0           174.0   \n",
              "3        -114.57     33.64                14.0       1501.0           337.0   \n",
              "4        -114.57     33.57                20.0       1454.0           326.0   \n",
              "...          ...       ...                 ...          ...             ...   \n",
              "16995    -124.26     40.58                52.0       2217.0           394.0   \n",
              "16996    -124.27     40.69                36.0       2349.0           528.0   \n",
              "16997    -124.30     41.84                17.0       2677.0           531.0   \n",
              "16998    -124.30     41.80                19.0       2672.0           552.0   \n",
              "16999    -124.35     40.54                52.0       1820.0           300.0   \n",
              "\n",
              "       population  households  median_income  median_house_value  \n",
              "0          1015.0       472.0         1.4936             66900.0  \n",
              "1          1129.0       463.0         1.8200             80100.0  \n",
              "2           333.0       117.0         1.6509             85700.0  \n",
              "3           515.0       226.0         3.1917             73400.0  \n",
              "4           624.0       262.0         1.9250             65500.0  \n",
              "...           ...         ...            ...                 ...  \n",
              "16995       907.0       369.0         2.3571            111400.0  \n",
              "16996      1194.0       465.0         2.5179             79000.0  \n",
              "16997      1244.0       456.0         3.0313            103600.0  \n",
              "16998      1298.0       478.0         1.9797             85800.0  \n",
              "16999       806.0       270.0         3.0147             94600.0  \n",
              "\n",
              "[17000 rows x 9 columns]"
            ]
          },
          "execution_count": 8,
          "metadata": {},
          "output_type": "execute_result"
        }
      ],
      "source": [
        "data = pd.read_csv(\"/content/california_housing_train.csv\")\n",
        "data"
      ]
    },
    {
      "cell_type": "markdown",
      "metadata": {
        "id": "SyIMHNiW6QzY"
      },
      "source": [
        "Получите и визуализируйте статистику по датасету (включая количество, среднее значение, стандартное отклонение, минимум, максимум и различные квантили)."
      ]
    },
    {
      "cell_type": "code",
      "execution_count": null,
      "metadata": {
        "colab": {
          "base_uri": "https://localhost:8080/"
        },
        "id": "8QAd_Y8d1VNv",
        "outputId": "ce80406f-fab6-4e29-81c6-c6e3c2267283"
      },
      "outputs": [
        {
          "name": "stdout",
          "output_type": "stream",
          "text": [
            "          longitude      latitude  housing_median_age   total_rooms  \\\n",
            "count  17000.000000  17000.000000        17000.000000  17000.000000   \n",
            "mean    -119.562108     35.625225           28.589353   2643.664412   \n",
            "std        2.005166      2.137340           12.586937   2179.947071   \n",
            "min     -124.350000     32.540000            1.000000      2.000000   \n",
            "25%     -121.790000     33.930000           18.000000   1462.000000   \n",
            "50%     -118.490000     34.250000           29.000000   2127.000000   \n",
            "75%     -118.000000     37.720000           37.000000   3151.250000   \n",
            "max     -114.310000     41.950000           52.000000  37937.000000   \n",
            "\n",
            "       total_bedrooms    population    households  median_income  \\\n",
            "count    17000.000000  17000.000000  17000.000000   17000.000000   \n",
            "mean       539.410824   1429.573941    501.221941       3.883578   \n",
            "std        421.499452   1147.852959    384.520841       1.908157   \n",
            "min          1.000000      3.000000      1.000000       0.499900   \n",
            "25%        297.000000    790.000000    282.000000       2.566375   \n",
            "50%        434.000000   1167.000000    409.000000       3.544600   \n",
            "75%        648.250000   1721.000000    605.250000       4.767000   \n",
            "max       6445.000000  35682.000000   6082.000000      15.000100   \n",
            "\n",
            "       median_house_value  \n",
            "count        17000.000000  \n",
            "mean        207300.912353  \n",
            "std         115983.764387  \n",
            "min          14999.000000  \n",
            "25%         119400.000000  \n",
            "50%         180400.000000  \n",
            "75%         265000.000000  \n",
            "max         500001.000000  \n"
          ]
        }
      ],
      "source": [
        "statistics = data.describe()\n",
        "print(statistics)"
      ]
    },
    {
      "cell_type": "code",
      "execution_count": null,
      "metadata": {
        "id": "_qt4WgX4rkpe"
      },
      "outputs": [],
      "source": [
        "X = data.drop(columns=[\"median_house_value\"])\n",
        "y = data[\"median_house_value\"]"
      ]
    },
    {
      "cell_type": "code",
      "execution_count": null,
      "metadata": {
        "id": "lrqLM77arN4C"
      },
      "outputs": [],
      "source": [
        "rows_count = X.shape[0]\n",
        "cols_count = X.shape[1]\n",
        "\n",
        "means = data.mean()\n",
        "corrected_dispersions = np.sum(np.power(data - means, 2)) / (rows_count - 1)\n",
        "standart_offsets = np.sqrt(corrected_dispersions)\n",
        "mins = data.min()\n",
        "maxs = data.max()"
      ]
    },
    {
      "cell_type": "code",
      "execution_count": null,
      "metadata": {
        "colab": {
          "background_save": true
        },
        "id": "os0aWxtrqwjx",
        "outputId": "0eaf0ef4-c043-47cc-b77e-ec15949e71da"
      },
      "outputs": [
        {
          "data": {
            "image/png": "[encoded data removed]",
            "text/plain": [
              "<Figure size 900x900 with 9 Axes>"
            ]
          },
          "metadata": {},
          "output_type": "display_data"
        }
      ],
      "source": [
        "# visualization\n",
        "\n",
        "# правило стёрджеса\n",
        "bins_count = 1 + int(math.log(rows_count, 2))\n",
        "\n",
        "data_from = X.join(y)\n",
        "titles = data_from.columns\n",
        "fig = plt.figure(figsize=(9, 9))\n",
        "\n",
        "for i, column in enumerate(titles):\n",
        "  ax = fig.add_subplot(3, 3, i + 1)\n",
        "\n",
        "  hist = ax.hist(data_from[column], bins = bins_count, edgecolor = \"black\")\n",
        "\n",
        "  ax.plot([means[i], means[i]], [0, np.max(hist[0])], color = \"red\")\n",
        "  ax.plot([means[i] - standart_offsets[i], means[i] - standart_offsets[i]], [0, np.max(hist[0])], color = \"orange\")\n",
        "  ax.plot([means[i] + standart_offsets[i], means[i] + standart_offsets[i]], [0, np.max(hist[0])], color = \"orange\")\n",
        "\n",
        "  ax.set_title(titles[i], fontsize=16)\n",
        "\n",
        "fig.tight_layout()\n",
        "plt.show()"
      ]
    },
    {
      "cell_type": "code",
      "execution_count": null,
      "metadata": {
        "colab": {
          "base_uri": "https://localhost:8080/"
        },
        "id": "jCS7fjVQ55IT",
        "outputId": "29a6e5d8-704d-40d0-b788-b8301fffc598"
      },
      "outputs": [
        {
          "name": "stdout",
          "output_type": "stream",
          "text": [
            "Количество строк в датасете: 17000\n",
            "Количество столбцов в датасете: 9\n",
            "Средние значения для каждого столбца:\n",
            "longitude               -119.562108\n",
            "latitude                  35.625225\n",
            "housing_median_age        28.589353\n",
            "total_rooms             2643.664412\n",
            "total_bedrooms           539.410824\n",
            "population              1429.573941\n",
            "households               501.221941\n",
            "median_income              3.883578\n",
            "median_house_value    207300.912353\n",
            "dtype: float64\n",
            "Стандартное отклонение для каждого столбца:\n",
            "longitude                  2.005166\n",
            "latitude                   2.137340\n",
            "housing_median_age        12.586937\n",
            "total_rooms             2179.947071\n",
            "total_bedrooms           421.499452\n",
            "population              1147.852959\n",
            "households               384.520841\n",
            "median_income              1.908157\n",
            "median_house_value    115983.764387\n",
            "dtype: float64\n",
            "Минимальные значения для каждого столбца:\n",
            "longitude              -124.3500\n",
            "latitude                 32.5400\n",
            "housing_median_age        1.0000\n",
            "total_rooms               2.0000\n",
            "total_bedrooms            1.0000\n",
            "population                3.0000\n",
            "households                1.0000\n",
            "median_income             0.4999\n",
            "median_house_value    14999.0000\n",
            "dtype: float64\n",
            "\n",
            "Максимальные значения для каждого столбца:\n",
            "longitude               -114.3100\n",
            "latitude                  41.9500\n",
            "housing_median_age        52.0000\n",
            "total_rooms            37937.0000\n",
            "total_bedrooms          6445.0000\n",
            "population             35682.0000\n",
            "households              6082.0000\n",
            "median_income             15.0001\n",
            "median_house_value    500001.0000\n",
            "dtype: float64\n",
            "Квантили для каждого столбца (25%, 50%, 75%):\n",
            "      longitude  latitude  housing_median_age  total_rooms  total_bedrooms  \\\n",
            "0.25    -121.79     33.93                18.0      1462.00          297.00   \n",
            "0.50    -118.49     34.25                29.0      2127.00          434.00   \n",
            "0.75    -118.00     37.72                37.0      3151.25          648.25   \n",
            "\n",
            "      population  households  median_income  median_house_value  \n",
            "0.25       790.0      282.00       2.566375            119400.0  \n",
            "0.50      1167.0      409.00       3.544600            180400.0  \n",
            "0.75      1721.0      605.25       4.767000            265000.0  \n"
          ]
        }
      ],
      "source": [
        "num_rows = data.shape[0]\n",
        "num_columns = data.shape[1]\n",
        "print(\"Количество строк в датасете:\", num_rows)\n",
        "print(\"Количество столбцов в датасете:\", num_columns)\n",
        "\n",
        "means = data.mean()\n",
        "print(\"Средние значения для каждого столбца:\")\n",
        "print(means)\n",
        "\n",
        "std_deviation = data.std()\n",
        "print(\"Стандартное отклонение для каждого столбца:\")\n",
        "print(std_deviation)\n",
        "\n",
        "min_values = data.min()\n",
        "max_values = data.max()\n",
        "print(\"Минимальные значения для каждого столбца:\")\n",
        "print(min_values)\n",
        "print(\"\\nМаксимальные значения для каждого столбца:\")\n",
        "print(max_values)\n",
        "\n",
        "quantiles = data.quantile([0.25, 0.50, 0.75])\n",
        "print(\"Квантили для каждого столбца (25%, 50%, 75%):\")\n",
        "print(quantiles)"
      ]
    },
    {
      "cell_type": "markdown",
      "metadata": {
        "id": "O3Iv5fbJCGns"
      },
      "source": [
        "Проведите предварительную обработку данных, включая обработку отсутствующих значений, кодирование категориальных признаков и нормировка."
      ]
    },
    {
      "cell_type": "code",
      "execution_count": null,
      "metadata": {
        "id": "gbh7sllWEAL6"
      },
      "outputs": [],
      "source": [
        "# Обработка отсутствующих значений\n",
        "data = data.dropna()\n",
        "\n",
        "# Разделение признаков на числовые и категориальные\n",
        "numerical_characteristics = ['longitude', 'latitude', 'housingMedianAge', 'totalRooms', 'totalBedrooms', 'population', 'households', 'medianIncome']\n",
        "categorical_characteristics = []\n",
        "\n",
        "# Предобработка числовых признаков\n",
        "scaler = StandardScaler() # для нормализации (центрирует данные и масштабирует, ср.з. 0; ст. отк. 1)\n",
        "data_scaled = data.copy()\n",
        "data_scaled.iloc[:, :-1] = scaler.fit_transform(data_scaled.iloc[:, :-1]) #применяем нормализацию(-1 содержит цел. переменную),  выч парметры нормализации"
      ]
    },
    {
      "cell_type": "markdown",
      "metadata": {
        "id": "0yzplXEvCJ0c"
      },
      "source": [
        "Разделите данные на обучающий и тестовый наборы данных."
      ]
    },
    {
      "cell_type": "code",
      "execution_count": null,
      "metadata": {
        "id": "7h89Z6hHEabo"
      },
      "outputs": [],
      "source": [
        "X = data_scaled.drop(columns=['median_house_value']) #искл. столбец (ц.п.)\n",
        "y = data_scaled['median_house_value'] # цп\n",
        "\n",
        "X_train, X_test, y_train, y_test = train_test_split(X, y, test_size=0.2, random_state=42)"
      ]
    },
    {
      "cell_type": "markdown",
      "metadata": {
        "id": "VBJc5APXCL91"
      },
      "source": [
        "Реализуйте линейную регрессию с использованием метода наименьших квадратов без использования сторонних библиотек, кроме NumPy и Pandas (для использования коэффициентов использовать библиотеки тоже нельзя). Использовать минимизацию суммы квадратов разностей между фактическими и предсказанными значениями для нахождения оптимальных коэффициентов."
      ]
    },
    {
      "cell_type": "markdown",
      "metadata": {
        "id": "dUa8CjKGi9hD"
      },
      "source": [
        "Линейная регрессия — это метод анализа данных, который предсказывает ценность неизвестных данных с помощью другого связанного и известного значения данных."
      ]
    },
    {
      "cell_type": "code",
      "execution_count": null,
      "metadata": {
        "id": "hJZj6MUJEdE_"
      },
      "outputs": [],
      "source": [
        "def linear_regression(X, y, number_step=1500, learning_rate=0.5):\n",
        "    number_samples, number_functions = X.shape # количество строк и столбцов\n",
        "    weights = np.zeros(number_functions)\n",
        "    bias = 0\n",
        "\n",
        "    for _ in range(number_step):\n",
        "        #Вычисляются предсказания модели для текущих весов и смещения\n",
        "        y_pred = np.dot(X, weights) + bias\n",
        "\n",
        "        #Границы\n",
        "        dw = (1 / number_samples) * np.dot(X.T, (y_pred - y))\n",
        "        db = (1 / number_samples) * np.sum(y_pred - y)\n",
        "\n",
        "        # Обновляем веса и смещение\n",
        "        weights -= learning_rate * dw\n",
        "        bias -= learning_rate * db\n",
        "\n",
        "    return weights, bias"
      ]
    },
    {
      "cell_type": "markdown",
      "metadata": {
        "id": "Ev1AHuiOCPef"
      },
      "source": [
        "Постройте три модели с различными наборами признаков."
      ]
    },
    {
      "cell_type": "markdown",
      "metadata": {
        "id": "EQBk35qEmHAe"
      },
      "source": [
        "r2_score **вручную**\n",
        "\n",
        "$ R^2 = 1 - \\frac {\\sum (y_i - L(X_i))^2} {\\sum (y_i - \\bar {y}_i)^2} $\n"
      ]
    },
    {
      "cell_type": "code",
      "execution_count": null,
      "metadata": {
        "id": "TEyvaslimEuB"
      },
      "outputs": [],
      "source": [
        "def r2_score(y_true, y_pred):\n",
        "  if len(y_true) > len(y_pred):\n",
        "    raise Exception(\"len(y_true) <= len(y_pred) expected\")\n",
        "\n",
        "  n = len(y_true)\n",
        "  mean = sum(y_true) / n\n",
        "\n",
        "  return 1 - sum([(y_true[i] - y_pred[i]) ** 2 for i in range(n)]) / sum([(y_true[i] - mean) ** 2 for i in range(n)])\n"
      ]
    },
    {
      "cell_type": "code",
      "execution_count": null,
      "metadata": {
        "id": "81AMstTk6xma"
      },
      "outputs": [],
      "source": [
        "#Функция для оценки производительности модели\n",
        "def evaluate_model(model, X, y):\n",
        "    y_pred = np.dot(X, model[0]) + model[1] #предсказания модели для данной матрицы признаков X (вес и смещение)\n",
        "    r2 = r2_score(y, y_pred) #вычисления коэффициента детерминации (зависимость переменных) между фактическими значениями y и предсказанными значениями y_pred\n",
        "    return r2"
      ]
    },
    {
      "cell_type": "code",
      "execution_count": null,
      "metadata": {
        "colab": {
          "base_uri": "https://localhost:8080/"
        },
        "id": "iyQbc_N_EiQk",
        "outputId": "35bf05ac-e90d-48d9-dbfe-3a8b3c17e0e7"
      },
      "outputs": [
        {
          "name": "stdout",
          "output_type": "stream",
          "text": [
            "R^2 для модели 1: 0.6636396331073434\n"
          ]
        }
      ],
      "source": [
        "# Первая модель\n",
        "X_train_model1 = X_train\n",
        "X_test_model1 = X_test\n",
        "\n",
        "# Обучение первой модели (приз и цп)\n",
        "model1 = linear_regression(X_train_model1.values, y_train.values)\n",
        "\n",
        "# Предсказание\n",
        "y_prediction_model1 = np.dot(X_test_model1.values, model1[0]) + model1[1] #Для тестовых признаков используются веса и смещение, полученные из обученной модели, для предсказания целевой переменной.\n",
        "\n",
        "# Оценка производительности на тестовых данных\n",
        "r2_model1 = evaluate_model(model1, X_test_model1.values, y_test)\n",
        "print(f\"R^2 для модели 1: {r2_model1}\")"
      ]
    },
    {
      "cell_type": "code",
      "execution_count": null,
      "metadata": {
        "colab": {
          "base_uri": "https://localhost:8080/"
        },
        "id": "uth_zeFiElWq",
        "outputId": "ce5ff5a6-2aa1-45d8-a12c-b2037891ebdf"
      },
      "outputs": [
        {
          "name": "stdout",
          "output_type": "stream",
          "text": [
            "R^2 для модели 2: 0.5965697317117302\n"
          ]
        }
      ],
      "source": [
        "#Вторая модель(исключаем признаки longitude и latitude)\n",
        "X_train_model2 = X_train.copy().drop([\"longitude\", \"latitude\"], axis=1)\n",
        "X_test_model2 = X_test.copy().drop([\"longitude\", \"latitude\"], axis=1)\n",
        "\n",
        "# Обучение второй модели\n",
        "weights_model2, bias_model2 = linear_regression(X_train_model2.values, y_train.values) # Веса и смещение модели сохраняются в переменные\n",
        "\n",
        "# Предсказание\n",
        "y_prediction_model2 = np.dot(X_test_model2.values, weights_model2) + bias_model2\n",
        "\n",
        "# Оценка производительности\n",
        "r2_model2 = r2_score(y_test, y_prediction_model2)\n",
        "print(f\"R^2 для модели 2: {r2_model2}\")"
      ]
    },
    {
      "cell_type": "markdown",
      "metadata": {
        "id": "qK06D7sA-h_I"
      },
      "source": [
        "Бонусное задание:\n",
        "\n",
        "Ввести синтетический признак при построении модели"
      ]
    },
    {
      "cell_type": "code",
      "execution_count": null,
      "metadata": {
        "colab": {
          "base_uri": "https://localhost:8080/"
        },
        "id": "gc6oyP_DEnST",
        "outputId": "4a7f7715-70a4-43d3-b2ae-f1167839a181"
      },
      "outputs": [
        {
          "name": "stdout",
          "output_type": "stream",
          "text": [
            "R^2 для модели 3: 0.6685163546380719\n"
          ]
        }
      ],
      "source": [
        " # Добавление синтетического признака\n",
        "X_train_model3 = X_train.copy()\n",
        "X_test_model3 = X_test.copy()\n",
        "\n",
        "X_train_model3[\"income_per_household\"] = X_train_model3[\"median_income\"] * X_train_model3[\"households\"] #income_per_household, который является произведением признаков median_income и households\n",
        "X_test_model3[\"income_per_household\"] = X_test_model3[\"median_income\"] * X_test_model3[\"households\"]\n",
        "\n",
        "# Обучение модели\n",
        "weights_model3, bias_model3 = linear_regression(X_train_model3.values, y_train.values)\n",
        "\n",
        "# Предсказание\n",
        "y_prediction_model3 = np.dot(X_test_model3.values, weights_model3) + bias_model3\n",
        "\n",
        "# Оценка производительности\n",
        "r2_model3 = r2_score(y_test, y_prediction_model3)\n",
        "print(f\"R^2 для модели 3: {r2_model3}\")"
      ]
    },
    {
      "cell_type": "markdown",
      "metadata": {
        "id": "ugQBDbiSCQ9n"
      },
      "source": [
        "Для каждой модели проведите оценку производительности, используя метрику коэффициент детерминации, чтобы измерить, насколько хорошо модель соответствует данным."
      ]
    },
    {
      "cell_type": "markdown",
      "metadata": {
        "id": "V-stdoIxCRyv"
      },
      "source": [
        "Сравните результаты трех моделей и сделайте выводы о том, какие признаки работают лучше всего для каждой модели."
      ]
    },
    {
      "cell_type": "code",
      "execution_count": null,
      "metadata": {
        "colab": {
          "base_uri": "https://localhost:8080/"
        },
        "id": "2xV6VWKDEqiu",
        "outputId": "505947ce-ec20-49d5-c439-df7dabba616f"
      },
      "outputs": [
        {
          "name": "stdout",
          "output_type": "stream",
          "text": [
            "Параметры для модели №1:\n",
            "1.Лучший R^2: 0.6635724055729721\n",
            "2.Наилучший уровень обучения: 0.1\n",
            "3.Лучшее количество итераций: 1000\n",
            "Параметры для модели №2:\n",
            "1.Лучший R^2: 0.2910223681090881\n",
            "2.Наилучший уровень обучения: 0.1\n",
            "3.Лучшее количество итераций: 1000\n",
            "Параметры для модели №3:\n",
            "1.Лучший R^2: 0.6685157581205222\n",
            "2.Наилучший уровень обучения: 0.5\n",
            "3.Лучшее количество итераций: 1000\n"
          ]
        }
      ],
      "source": [
        "# Параметры для перебора\n",
        "learning_rates = [0.001, 0.01, 0.1, 0.25, 0.5]\n",
        "number_step = [1000, 1500, 2000, 2500, 3000]\n",
        "\n",
        "def find_parameter(train_model, test_model):\n",
        "    best_r2 = -np.inf\n",
        "    best_lr = None\n",
        "    best_step = None\n",
        "    for lr in learning_rates:\n",
        "        for step in number_step:\n",
        "            # Обучение модели с заданными параметрами\n",
        "            weights, bias = linear_regression(train_model.values, y_train.values, number_step=step, learning_rate=lr)\n",
        "\n",
        "            # Предсказание на тестовом наборе\n",
        "            y_pred = np.dot(test_model.values, weights) + bias\n",
        "\n",
        "            # Прерывание работы, если переполнения\n",
        "            if np.isnan(y_pred).any():\n",
        "              break\n",
        "\n",
        "            # Оценка производительности\n",
        "            r2 = r2_score(y_test, y_pred)\n",
        "            if r2 - best_r2 < 0.0001:\n",
        "              break\n",
        "\n",
        "            # Сохранение лучших параметров\n",
        "            if r2 > best_r2:\n",
        "                best_r2 = r2\n",
        "                best_lr = lr\n",
        "                best_step = step\n",
        "\n",
        "    print(\"1.Лучший R^2:\",best_r2)\n",
        "    print(\"2.Наилучший уровень обучения:\",best_lr)\n",
        "    print(\"3.Лучшее количество итераций:\",best_step)\n",
        "\n",
        "print(\"Параметры для модели №1:\")\n",
        "find_parameter(X_train_model1, X_test_model1)\n",
        "print(\"Параметры для модели №2:\")\n",
        "find_parameter(X_train_model2, X_test_model2)\n",
        "print(\"Параметры для модели №3:\")\n",
        "find_parameter(X_train_model3, X_test_model3)"
      ]
    }
  ],
  "metadata": {
    "colab": {
      "provenance": [],
      "authorship_tag": "ABX9TyM5UIVRNqbqfHjgnMzHPqmN"
    },
    "kernelspec": {
      "display_name": "Python 3",
      "name": "python3"
    },
    "language_info": {
      "name": "python"
    }
  },
  "nbformat": 4,
  "nbformat_minor": 0
}